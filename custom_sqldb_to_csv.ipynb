{
 "cells": [
  {
   "cell_type": "code",
   "execution_count": 15,
   "metadata": {},
   "outputs": [
    {
     "name": "stdout",
     "output_type": "stream",
     "text": [
      "CREATE TABLE transaction_data (\n",
      "        id integer PRIMARY KEY,\n",
      "        timestamp integer NOT NULL,\n",
      "        type text NOT NULL,\n",
      "        amount text NOT NULL,\n",
      "        nameOrig text NOT NULL,\n",
      "        oldbalanceOrig text NOT NULL,\n",
      "        newbalanceOrig text NOT NULL,\n",
      "        nameDest text NOT NULL,\n",
      "        oldbalanceDest text NOT NULL,\n",
      "        newbalanceDest text NOT NULL\n",
      "    )\n",
      "(1, 1, 'TRANSFER', '0.01', 'C1231006815', '170136.0', '170135.990', 'C52983754', '0.010', '0.020')\n"
     ]
    }
   ],
   "source": [
    "import csv\n",
    "import sys\n",
    "import os\n",
    "import random\n",
    "import sys\n",
    "from tqdm.notebook import tqdm\n",
    "import sqlite3\n",
    "\n",
    "\n",
    "con = sqlite3.connect('./transaction_data.db')\n",
    "cur = con.cursor()\n",
    "\n",
    "def describe_table():\n",
    "    cur.execute(\"select sql from sqlite_master where type = 'table' and name = 'transaction_data';\")\n",
    "    print(cur.fetchall()[0][0])\n",
    "\n",
    "def get_first_record():\n",
    "    cur.execute(\"select * from transaction_data LIMIT 1;\")\n",
    "    print(cur.fetchall()[0])\n",
    "\n",
    "# (1, 1, 'PAYMENT', '9839.640', 'C1231006815', '170136.000', '160296.360', 'M1979787155', '0.000', '9839.640')\n",
    "\n",
    "def export_csv(filename='./transactions.csv'):\n",
    "    f = open(filename,'w')\n",
    "    f.write('timestamp,type,amount,nameOrig,oldbalanceOrig,newbalanceOrig,nameDest,oldbalanceDest,newbalanceDest\\n')\n",
    "    cur.execute(\"select * from transaction_data;\")\n",
    "    data = cur.fetchall()\n",
    "    for line in tqdm(data):\n",
    "        f.write(str(line[1])+','+line[2]+','+format(float(line[3]),'.2f')+','+line[4]+','+format(float(line[5]),'.2f')+','+format(float(line[6]),'.2f')+','+line[7]+','+format(float(line[8]),'.2f')+','+format(float(line[9]),'.2f')+'\\n')\n",
    "\n",
    "describe_table()\n",
    "get_first_record()\n"
   ]
  },
  {
   "cell_type": "code",
   "execution_count": 17,
   "metadata": {},
   "outputs": [
    {
     "data": {
      "text/plain": [
       "tx_index            int64\n",
       "timestamp           int64\n",
       "type               object\n",
       "amount              int64\n",
       "nameOrig           object\n",
       "oldbalanceOrig    float64\n",
       "newbalanceOrig      int64\n",
       "nameDest           object\n",
       "oldbalanceDest      int64\n",
       "newbalanceDest      int64\n",
       "dtype: object"
      ]
     },
     "execution_count": 17,
     "metadata": {},
     "output_type": "execute_result"
    }
   ],
   "source": [
    "import pandas as pd\n",
    "import numpy as np\n",
    "\n",
    "def string_amount_to_int(i):\n",
    "    if \"E\" in i:\n",
    "        return float(i)*1000\n",
    "    else:\n",
    "        major, decimals = i.split(\".\")\n",
    "#         assert len(decimals) <= 3, \"Found a number with more than 3 decimal points:\"+str(i)\n",
    "        decimals = decimals[:3].ljust(3, \"0\")\n",
    "        return int(major+decimals)\n",
    "\n",
    "def read_to_pandas():\n",
    "    cur.execute(\"select * from transaction_data;\")\n",
    "#     cur.execute(\"select * from transaction_data LIMIT 10000;\")\n",
    "    columns = 'timestamp,type,amount,nameOrig,oldbalanceOrig,newbalanceOrig,nameDest,oldbalanceDest,newbalanceDest'.split(\",\")\n",
    "    columns.insert(0, \"tx_index\")\n",
    "    df = pd.DataFrame(data=cur.fetchall(), columns=columns)\n",
    "    for col in [\"tx_index\", \"timestamp\", \"amount\", \"oldbalanceOrig\", \"newbalanceOrig\", \"oldbalanceDest\", \"newbalanceDest\"]:\n",
    "        if col in [\"amount\", \"oldbalanceOrig\", \"newbalanceOrig\", \"oldbalanceDest\", \"newbalanceDest\"]:\n",
    "        #Converting to an integer by factor of 1000!\n",
    "            df[col] = df[col].apply(string_amount_to_int)\n",
    "        else:\n",
    "            df[col] = pd.to_numeric(df[col])\n",
    "    return df\n",
    "\n",
    "df = read_to_pandas()\n",
    "df.set_index(\"tx_index\", inplace=True, drop=False)\n",
    "df.to_csv(\"df_transactions.csv\")\n",
    "df.dtypes"
   ]
  },
  {
   "cell_type": "code",
   "execution_count": 18,
   "metadata": {},
   "outputs": [
    {
     "name": "stdout",
     "output_type": "stream",
     "text": [
      "total 1,4G\n",
      "drwxr-xr-x  4 jupyter-maxim jupyter-maxim 4,0K feb 18 15:50 .\n",
      "drwxr-x--- 22 jupyter-maxim jupyter-maxim 4,0K feb 18 15:50 ..\n",
      "-rw-r--r--  1 jupyter-maxim jupyter-maxim 701M feb 18 15:50 df_transactions.csv\n",
      "drwxr-xr-x  3 jupyter-maxim jupyter-maxim 4,0K feb 17 16:21 graphs\n",
      "drwxr-xr-x  2 jupyter-maxim jupyter-maxim 4,0K feb 18 12:05 .ipynb_checkpoints\n",
      "-rw-r--r--  1 jupyter-maxim jupyter-maxim 8,9K feb 18 15:49 office_space_hacker_analysis.ipynb\n",
      "-rw-r--r--  1 jupyter-maxim jupyter-maxim 265K feb 18 15:50 SEN163A_Assignment1.ipynb\n",
      "-rw-r--r--  1 jupyter-maxim jupyter-maxim 689M feb 18 11:46 transaction_data.db\n",
      "-rw-r--r--  1 jupyter-maxim jupyter-maxim 7,4M feb 17 15:14 transactions_test_100k.csv\n",
      "-rw-r--r--  1 jupyter-maxim jupyter-maxim 735K feb 17 15:14 transactions_test.csv\n"
     ]
    }
   ],
   "source": [
    "!ls -all -h"
   ]
  }
 ],
 "metadata": {
  "kernelspec": {
   "display_name": "Python 3",
   "language": "python",
   "name": "python3"
  },
  "language_info": {
   "codemirror_mode": {
    "name": "ipython",
    "version": 3
   },
   "file_extension": ".py",
   "mimetype": "text/x-python",
   "name": "python",
   "nbconvert_exporter": "python",
   "pygments_lexer": "ipython3",
   "version": "3.7.7"
  }
 },
 "nbformat": 4,
 "nbformat_minor": 4
}
