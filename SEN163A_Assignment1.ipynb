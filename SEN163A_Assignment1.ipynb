{
  "nbformat": 4,
  "nbformat_minor": 0,
  "metadata": {
    "colab": {
      "name": "SEN163A_Assignment1.ipynb",
      "provenance": [],
      "toc_visible": true,
      "include_colab_link": true
    },
    "kernelspec": {
      "name": "python3",
      "display_name": "Python 3"
    }
  },
  "cells": [
    {
      "cell_type": "markdown",
      "metadata": {
        "id": "view-in-github",
        "colab_type": "text"
      },
      "source": [
        "<a href=\"https://colab.research.google.com/github/maximsachs/SEN163A_Assignment1/blob/main/SEN163A_Assignment1.ipynb\" target=\"_parent\"><img src=\"https://colab.research.google.com/assets/colab-badge.svg\" alt=\"Open In Colab\"/></a>"
      ]
    },
    {
      "cell_type": "markdown",
      "metadata": {
        "id": "WwI3jt_xJQVx"
      },
      "source": [
        "# Assignment 1\n"
      ]
    },
    {
      "cell_type": "code",
      "metadata": {
        "colab": {
          "base_uri": "https://localhost:8080/"
        },
        "id": "7zm1NOz7eNgL",
        "outputId": "0715710e-2f8a-4a27-fcc0-b4987edabec8"
      },
      "source": [
        "!wget https://raw.githubusercontent.com/maximsachs/SEN163A_Assignment1/main/transactions_test.csv"
      ],
      "execution_count": 3,
      "outputs": [
        {
          "output_type": "stream",
          "text": [
            "--2021-02-16 11:00:40--  https://raw.githubusercontent.com/maximsachs/SEN163A_Assignment1/main/transactions_test.csv\n",
            "Resolving raw.githubusercontent.com (raw.githubusercontent.com)... 185.199.109.133, 185.199.110.133, 185.199.111.133, ...\n",
            "Connecting to raw.githubusercontent.com (raw.githubusercontent.com)|185.199.109.133|:443... connected.\n",
            "HTTP request sent, awaiting response... 200 OK\n",
            "Length: 752509 (735K) [text/plain]\n",
            "Saving to: ‘transactions_test.csv’\n",
            "\n",
            "transactions_test.c 100%[===================>] 734.87K  --.-KB/s    in 0.06s   \n",
            "\n",
            "2021-02-16 11:00:40 (11.8 MB/s) - ‘transactions_test.csv’ saved [752509/752509]\n",
            "\n"
          ],
          "name": "stdout"
        }
      ]
    },
    {
      "cell_type": "code",
      "metadata": {
        "id": "k-PUU05sJ7EO"
      },
      "source": [
        "import pandas \n"
      ],
      "execution_count": 4,
      "outputs": []
    },
    {
      "cell_type": "code",
      "metadata": {
        "colab": {
          "base_uri": "https://localhost:8080/",
          "height": 419
        },
        "id": "uj720IHDeMVA",
        "outputId": "147d3d77-5dbb-4952-fcbd-b280822d2a4d"
      },
      "source": [
        "# Opening the sample data file:\n",
        "df = pandas.read_csv(\"transactions_test.csv\")\n",
        "df"
      ],
      "execution_count": 5,
      "outputs": [
        {
          "output_type": "execute_result",
          "data": {
            "text/html": [
              "<div>\n",
              "<style scoped>\n",
              "    .dataframe tbody tr th:only-of-type {\n",
              "        vertical-align: middle;\n",
              "    }\n",
              "\n",
              "    .dataframe tbody tr th {\n",
              "        vertical-align: top;\n",
              "    }\n",
              "\n",
              "    .dataframe thead th {\n",
              "        text-align: right;\n",
              "    }\n",
              "</style>\n",
              "<table border=\"1\" class=\"dataframe\">\n",
              "  <thead>\n",
              "    <tr style=\"text-align: right;\">\n",
              "      <th></th>\n",
              "      <th>timestamp</th>\n",
              "      <th>type</th>\n",
              "      <th>amount</th>\n",
              "      <th>nameOrig</th>\n",
              "      <th>oldbalanceOrig</th>\n",
              "      <th>newbalanceOrig</th>\n",
              "      <th>nameDest</th>\n",
              "      <th>oldbalanceDest</th>\n",
              "      <th>newbalanceDest</th>\n",
              "    </tr>\n",
              "  </thead>\n",
              "  <tbody>\n",
              "    <tr>\n",
              "      <th>0</th>\n",
              "      <td>1</td>\n",
              "      <td>TRANSFER</td>\n",
              "      <td>0.01</td>\n",
              "      <td>C1231006815</td>\n",
              "      <td>170136.0</td>\n",
              "      <td>170135.99</td>\n",
              "      <td>C52983754</td>\n",
              "      <td>0.01</td>\n",
              "      <td>0.02</td>\n",
              "    </tr>\n",
              "    <tr>\n",
              "      <th>1</th>\n",
              "      <td>1</td>\n",
              "      <td>TRANSFER</td>\n",
              "      <td>9839.64</td>\n",
              "      <td>C1231006815</td>\n",
              "      <td>170136.0</td>\n",
              "      <td>160296.36</td>\n",
              "      <td>M1979787155</td>\n",
              "      <td>0.00</td>\n",
              "      <td>9839.63</td>\n",
              "    </tr>\n",
              "    <tr>\n",
              "      <th>2</th>\n",
              "      <td>1</td>\n",
              "      <td>TRANSFER</td>\n",
              "      <td>1864.28</td>\n",
              "      <td>C1666544295</td>\n",
              "      <td>21249.0</td>\n",
              "      <td>19384.72</td>\n",
              "      <td>M2044282225</td>\n",
              "      <td>0.00</td>\n",
              "      <td>1864.28</td>\n",
              "    </tr>\n",
              "    <tr>\n",
              "      <th>3</th>\n",
              "      <td>1</td>\n",
              "      <td>TRANSFER</td>\n",
              "      <td>181.00</td>\n",
              "      <td>C1305486145</td>\n",
              "      <td>181.0</td>\n",
              "      <td>0.00</td>\n",
              "      <td>C553264065</td>\n",
              "      <td>0.00</td>\n",
              "      <td>181.00</td>\n",
              "    </tr>\n",
              "    <tr>\n",
              "      <th>4</th>\n",
              "      <td>1</td>\n",
              "      <td>TRANSFER</td>\n",
              "      <td>181.00</td>\n",
              "      <td>C840083671</td>\n",
              "      <td>181.0</td>\n",
              "      <td>0.00</td>\n",
              "      <td>C38997010</td>\n",
              "      <td>21182.00</td>\n",
              "      <td>21363.00</td>\n",
              "    </tr>\n",
              "    <tr>\n",
              "      <th>...</th>\n",
              "      <td>...</td>\n",
              "      <td>...</td>\n",
              "      <td>...</td>\n",
              "      <td>...</td>\n",
              "      <td>...</td>\n",
              "      <td>...</td>\n",
              "      <td>...</td>\n",
              "      <td>...</td>\n",
              "      <td>...</td>\n",
              "    </tr>\n",
              "    <tr>\n",
              "      <th>9994</th>\n",
              "      <td>7</td>\n",
              "      <td>TRANSFER</td>\n",
              "      <td>0.01</td>\n",
              "      <td>C1086926330</td>\n",
              "      <td>47443.0</td>\n",
              "      <td>47442.99</td>\n",
              "      <td>C52983754</td>\n",
              "      <td>17.41</td>\n",
              "      <td>17.42</td>\n",
              "    </tr>\n",
              "    <tr>\n",
              "      <th>9995</th>\n",
              "      <td>7</td>\n",
              "      <td>TRANSFER</td>\n",
              "      <td>131687.79</td>\n",
              "      <td>C1086926330</td>\n",
              "      <td>47443.0</td>\n",
              "      <td>-84244.79</td>\n",
              "      <td>C919978702</td>\n",
              "      <td>12469.00</td>\n",
              "      <td>144156.78</td>\n",
              "    </tr>\n",
              "    <tr>\n",
              "      <th>9996</th>\n",
              "      <td>7</td>\n",
              "      <td>TRANSFER</td>\n",
              "      <td>14182.40</td>\n",
              "      <td>C381096925</td>\n",
              "      <td>52038.0</td>\n",
              "      <td>37855.60</td>\n",
              "      <td>M933099011</td>\n",
              "      <td>0.00</td>\n",
              "      <td>14182.40</td>\n",
              "    </tr>\n",
              "    <tr>\n",
              "      <th>9997</th>\n",
              "      <td>7</td>\n",
              "      <td>TRANSFER</td>\n",
              "      <td>5997.84</td>\n",
              "      <td>C1492867983</td>\n",
              "      <td>37855.6</td>\n",
              "      <td>31857.76</td>\n",
              "      <td>M1372855191</td>\n",
              "      <td>0.00</td>\n",
              "      <td>5997.84</td>\n",
              "    </tr>\n",
              "    <tr>\n",
              "      <th>9998</th>\n",
              "      <td>7</td>\n",
              "      <td>TRANSFER</td>\n",
              "      <td>0.01</td>\n",
              "      <td>C2144584587</td>\n",
              "      <td>65248.0</td>\n",
              "      <td>65247.99</td>\n",
              "      <td>C52983754</td>\n",
              "      <td>17.42</td>\n",
              "      <td>17.43</td>\n",
              "    </tr>\n",
              "  </tbody>\n",
              "</table>\n",
              "<p>9999 rows × 9 columns</p>\n",
              "</div>"
            ],
            "text/plain": [
              "      timestamp      type  ...  oldbalanceDest newbalanceDest\n",
              "0             1  TRANSFER  ...            0.01           0.02\n",
              "1             1  TRANSFER  ...            0.00        9839.63\n",
              "2             1  TRANSFER  ...            0.00        1864.28\n",
              "3             1  TRANSFER  ...            0.00         181.00\n",
              "4             1  TRANSFER  ...        21182.00       21363.00\n",
              "...         ...       ...  ...             ...            ...\n",
              "9994          7  TRANSFER  ...           17.41          17.42\n",
              "9995          7  TRANSFER  ...        12469.00      144156.78\n",
              "9996          7  TRANSFER  ...            0.00       14182.40\n",
              "9997          7  TRANSFER  ...            0.00        5997.84\n",
              "9998          7  TRANSFER  ...           17.42          17.43\n",
              "\n",
              "[9999 rows x 9 columns]"
            ]
          },
          "metadata": {
            "tags": []
          },
          "execution_count": 5
        }
      ]
    },
    {
      "cell_type": "code",
      "metadata": {
        "id": "RnwW_lAYR-Mx"
      },
      "source": [
        ""
      ],
      "execution_count": null,
      "outputs": []
    }
  ]
}